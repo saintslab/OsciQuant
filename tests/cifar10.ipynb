{
 "cells": [
  {
   "metadata": {
    "ExecuteTime": {
     "end_time": "2025-02-08T07:12:49.260385Z",
     "start_time": "2025-02-08T07:12:48.211458Z"
    }
   },
   "cell_type": "code",
   "source": [
    "!pip install torchvision\n",
    "!pip install tqdm"
   ],
   "id": "b8b26a5334dbadeb",
   "outputs": [
    {
     "name": "stdout",
     "output_type": "stream",
     "text": [
      "Requirement already satisfied: torchvision in /Users/jonathanwenshoej/miniforge3/envs/OsciQuant/lib/python3.12/site-packages (0.21.0)\r\n",
      "Requirement already satisfied: numpy in /Users/jonathanwenshoej/miniforge3/envs/OsciQuant/lib/python3.12/site-packages (from torchvision) (2.2.2)\r\n",
      "Requirement already satisfied: torch==2.6.0 in /Users/jonathanwenshoej/miniforge3/envs/OsciQuant/lib/python3.12/site-packages (from torchvision) (2.6.0)\r\n",
      "Requirement already satisfied: pillow!=8.3.*,>=5.3.0 in /Users/jonathanwenshoej/miniforge3/envs/OsciQuant/lib/python3.12/site-packages (from torchvision) (11.1.0)\r\n",
      "Requirement already satisfied: filelock in /Users/jonathanwenshoej/miniforge3/envs/OsciQuant/lib/python3.12/site-packages (from torch==2.6.0->torchvision) (3.17.0)\r\n",
      "Requirement already satisfied: typing-extensions>=4.10.0 in /Users/jonathanwenshoej/miniforge3/envs/OsciQuant/lib/python3.12/site-packages (from torch==2.6.0->torchvision) (4.12.2)\r\n",
      "Requirement already satisfied: networkx in /Users/jonathanwenshoej/miniforge3/envs/OsciQuant/lib/python3.12/site-packages (from torch==2.6.0->torchvision) (3.4.2)\r\n",
      "Requirement already satisfied: jinja2 in /Users/jonathanwenshoej/miniforge3/envs/OsciQuant/lib/python3.12/site-packages (from torch==2.6.0->torchvision) (3.1.5)\r\n",
      "Requirement already satisfied: fsspec in /Users/jonathanwenshoej/miniforge3/envs/OsciQuant/lib/python3.12/site-packages (from torch==2.6.0->torchvision) (2025.2.0)\r\n",
      "Requirement already satisfied: setuptools in /Users/jonathanwenshoej/miniforge3/envs/OsciQuant/lib/python3.12/site-packages (from torch==2.6.0->torchvision) (75.8.0)\r\n",
      "Requirement already satisfied: sympy==1.13.1 in /Users/jonathanwenshoej/miniforge3/envs/OsciQuant/lib/python3.12/site-packages (from torch==2.6.0->torchvision) (1.13.1)\r\n",
      "Requirement already satisfied: mpmath<1.4,>=1.1.0 in /Users/jonathanwenshoej/miniforge3/envs/OsciQuant/lib/python3.12/site-packages (from sympy==1.13.1->torch==2.6.0->torchvision) (1.3.0)\r\n",
      "Requirement already satisfied: MarkupSafe>=2.0 in /Users/jonathanwenshoej/miniforge3/envs/OsciQuant/lib/python3.12/site-packages (from jinja2->torch==2.6.0->torchvision) (3.0.2)\r\n",
      "Requirement already satisfied: tqdm in /Users/jonathanwenshoej/miniforge3/envs/OsciQuant/lib/python3.12/site-packages (4.67.1)\r\n"
     ]
    }
   ],
   "execution_count": 2
  },
  {
   "metadata": {
    "ExecuteTime": {
     "end_time": "2025-02-08T07:12:48.207222Z",
     "start_time": "2025-02-08T07:12:46.861761Z"
    }
   },
   "cell_type": "code",
   "outputs": [],
   "execution_count": 1,
   "source": [
    "import torch\n",
    "import torch.nn as nn\n",
    "import torch.optim as optim\n",
    "import torchvision\n",
    "import torchvision.transforms as transforms\n",
    "from torch.utils.data import DataLoader, random_split\n",
    "from tqdm import tqdm\n",
    "\n",
    "from osciquant.regularization import OsciQuantLoss\n",
    "from osciquant.quantizers import UniformQuantizer\n",
    "from osciquant.handler import attach_weight_quantizers, toggle_quantization"
   ],
   "id": "6e7441a6155f0cd"
  },
  {
   "metadata": {
    "ExecuteTime": {
     "end_time": "2025-02-08T07:12:49.351747Z",
     "start_time": "2025-02-08T07:12:49.345536Z"
    }
   },
   "cell_type": "code",
   "source": [
    "class TinySkyNet(nn.Module):\n",
    "    def __init__(self):\n",
    "        super(TinySkyNet, self).__init__()\n",
    "        self.width = 256\n",
    "        self.fc1 = nn.Linear(32 * 32 * 3, self.width)\n",
    "        self.fc2 = nn.Linear(self.width, 128)\n",
    "        self.output = nn.Linear(128, 10)\n",
    "\n",
    "    def forward(self, x):\n",
    "        x = x.view(x.size(0), -1)\n",
    "        x = torch.relu(self.fc1(x))\n",
    "        x = torch.relu(self.fc2(x))\n",
    "        x = self.output(x)\n",
    "        return x\n",
    "\n",
    "\n",
    "def train(model, epoch, train_loader, optimizer, criterion, device):\n",
    "    model.train()\n",
    "    train_loader_tqdm = tqdm(train_loader, desc=f\"Training Epoch {epoch}\", leave=False)\n",
    "\n",
    "    running_loss = 0.0\n",
    "    correct = 0\n",
    "    total = 0\n",
    "\n",
    "    for batch_idx, (X, y) in enumerate(train_loader_tqdm):\n",
    "        X, y = X.to(device), y.to(device)\n",
    "        optimizer.zero_grad()\n",
    "\n",
    "        output = model(X)\n",
    "        batch_loss = criterion(output, y)\n",
    "\n",
    "        batch_loss.backward()\n",
    "        optimizer.step()\n",
    "\n",
    "        running_loss += batch_loss.item()\n",
    "        _, predicted = output.max(1)\n",
    "        total += y.size(0)\n",
    "        correct += predicted.eq(y).sum().item()\n",
    "\n",
    "        avg_loss = running_loss / (batch_idx + 1)\n",
    "        accuracy = 100.0 * correct / total\n",
    "\n",
    "        # Update TQDM postfix\n",
    "        train_loader_tqdm.set_postfix({\n",
    "            'loss': f'{avg_loss:.4f}',\n",
    "            'acc': f'{accuracy:.2f}%'\n",
    "        })\n",
    "\n",
    "    final_loss = running_loss / len(train_loader)\n",
    "    final_accuracy = 100.0 * correct / total\n",
    "\n",
    "    return final_loss, final_accuracy\n",
    "\n",
    "\n",
    "def test(model, test_loader, criterion, device, desc=\"Test\"):\n",
    "    model.eval()\n",
    "    test_loader_tqdm = tqdm(test_loader, desc=desc, leave=True)\n",
    "\n",
    "    running_loss = 0.0\n",
    "    correct = 0\n",
    "    total = 0\n",
    "\n",
    "    with torch.no_grad():\n",
    "        for batch_idx, (X, y) in enumerate(test_loader_tqdm):\n",
    "            X, y = X.to(device), y.to(device)\n",
    "            output = model(X)\n",
    "            loss = criterion(output, y).item()\n",
    "\n",
    "            running_loss += loss\n",
    "            _, predicted = output.max(1)\n",
    "            total += y.size(0)\n",
    "            correct += predicted.eq(y).sum().item()\n",
    "\n",
    "            running_accuracy = 100. * correct / total\n",
    "            avg_loss = running_loss / (batch_idx + 1)\n",
    "\n",
    "            # Update the TQDM postfix\n",
    "            test_loader_tqdm.set_postfix({\n",
    "                'loss': f'{avg_loss:.4f}',\n",
    "                'acc': f'{running_accuracy:.2f}%',\n",
    "            })\n",
    "\n",
    "    final_loss = running_loss / len(test_loader)\n",
    "    final_accuracy = 100. * correct / total\n",
    "\n",
    "    return final_loss, final_accuracy\n",
    "\n",
    "\n",
    "def build_dataset(train_ratio):\n",
    "    transform = transforms.Compose([\n",
    "        transforms.ToTensor(),\n",
    "        transforms.Normalize((0.4914, 0.4822, 0.4465), (0.2470, 0.2435, 0.2616))\n",
    "    ])\n",
    "\n",
    "    train_dataset = torchvision.datasets.CIFAR10(root='./data', train=True, download=True, transform=transform)\n",
    "    test_dataset = torchvision.datasets.CIFAR10(root='./data', train=False, download=True, transform=transform)\n",
    "\n",
    "    train_size = int(train_ratio * len(train_dataset))\n",
    "    val_size = len(train_dataset) - train_size\n",
    "\n",
    "    train_dataset, val_dataset = random_split(train_dataset,[train_size, val_size])\n",
    "\n",
    "    train_loader = DataLoader(train_dataset, batch_size=128, shuffle=True)\n",
    "    val_loader = DataLoader(val_dataset, batch_size=128, shuffle=False)\n",
    "    test_loader = DataLoader(test_dataset, batch_size=128, shuffle=False)\n",
    "\n",
    "    return train_loader, val_loader, test_loader"
   ],
   "id": "913189e59b48bd08",
   "outputs": [],
   "execution_count": 3
  },
  {
   "metadata": {
    "ExecuteTime": {
     "end_time": "2025-02-08T07:12:49.356124Z",
     "start_time": "2025-02-08T07:12:49.354279Z"
    }
   },
   "cell_type": "code",
   "source": [
    "EPOCHS = 20\n",
    "LR = 0.00025\n",
    "BIT = 2  # Ternary because of the symmetric quantizer\n",
    "LAMBDA_VAL = 14.0\n",
    "EXCLUDE = []  # quantize all layers\n",
    "TRAIN_SIZE = 1.0\n",
    "QUANTIZER = UniformQuantizer(bit_width=BIT)\n",
    "REGULARIZATION = True\n",
    "DEVICE = \"mps\""
   ],
   "id": "15a6c1a7d41db234",
   "outputs": [],
   "execution_count": 4
  },
  {
   "metadata": {
    "jupyter": {
     "is_executing": true
    },
    "ExecuteTime": {
     "start_time": "2025-02-08T07:12:49.361343Z"
    }
   },
   "cell_type": "code",
   "source": [
    "# With OsciQuant and QAT\n",
    "train_loader, val_loader, test_loader = build_dataset(TRAIN_SIZE)  # CIFAR-10\n",
    "device = DEVICE\n",
    "\n",
    "model = TinySkyNet()\n",
    "model.to(device)\n",
    "\n",
    "criterion = nn.CrossEntropyLoss().to(device)\n",
    "optimizer = optim.Adam(model.parameters(), lr=LR)\n",
    "\n",
    "# Osciquant\n",
    "attach_weight_quantizers(model=model, exclude_layers=EXCLUDE, quantizer=QUANTIZER, enabled=False)\n",
    "criterion_reg = OsciQuantLoss(base_loss=criterion, model=model, regularization_lambda=LAMBDA_VAL, regularization=REGULARIZATION)\n",
    "\n",
    "for epoch in range(EPOCHS):\n",
    "    # train\n",
    "    toggle_quantization(model, enabled=False)\n",
    "    train_loss, train_acc = train(model, epoch, train_loader, optimizer, criterion_reg, device)\n",
    "    \n",
    "    # test\n",
    "    # Todo: split train into val and select best model for test\n",
    "    toggle_quantization(model, enabled=False)\n",
    "    test_loss, test_acc = test(model, test_loader, criterion, device, desc=f\"Test FP32\")\n",
    "    toggle_quantization(model, enabled=True)\n",
    "    test_loss, test_acc = test(model, test_loader, criterion, device, desc=f\"Test {BIT}-bit\")\n",
    "     \n",
    "    # cross bit test\n",
    "    # todo: reset to BIT after cross bit test. Make a function for this in util\n",
    "    # for bit_width in [4,3,2]:\n",
    "    #     for name, submodule in model.named_modules():\n",
    "    #         if hasattr(submodule, 'parametrizations'):\n",
    "    #             # submodule.parametrizations is a dictionary like {\"weight\": [param_module, ...]}\n",
    "    #             for param_name, param_list in submodule.parametrizations.items():\n",
    "    #                 for p in param_list:\n",
    "    #                     if isinstance(p, FakeQuantParametrization):\n",
    "    #                         p.quantizer.set_bits(bit_width)\n",
    "    #     toggle_quantization(model, enabled=True)\n",
    "    #     test_loss, test_acc = test(model, test_loader, criterion, device, desc=f\"Test {bit_width}\")"
   ],
   "id": "120c9d150e218b37",
   "outputs": [
    {
     "name": "stdout",
     "output_type": "stream",
     "text": [
      "Attached weight quantizer to layer: fc1\n",
      "Attached weight quantizer to layer: fc2\n",
      "Attached weight quantizer to layer: output\n",
      "Osciquant\n"
     ]
    },
    {
     "name": "stderr",
     "output_type": "stream",
     "text": [
      "Test 4: 100%|██████████| 79/79 [00:00<00:00, 81.28it/s, loss=1.6561, acc=41.05%]            \n",
      "Test 3: 100%|██████████| 79/79 [00:00<00:00, 84.44it/s, loss=1.6662, acc=40.95%]\n",
      "Test 2: 100%|██████████| 79/79 [00:00<00:00, 84.88it/s, loss=1.5577, acc=44.83%]\n",
      "Test 4: 100%|██████████| 79/79 [00:00<00:00, 83.82it/s, loss=1.5460, acc=45.60%]            \n",
      "Test 3: 100%|██████████| 79/79 [00:00<00:00, 84.90it/s, loss=1.5378, acc=45.75%]\n",
      "Test 2: 100%|██████████| 79/79 [00:00<00:00, 84.79it/s, loss=1.4537, acc=48.75%]\n",
      "Training Epoch 2:  86%|████████▌ | 335/391 [00:07<00:01, 45.41it/s, loss=1.3921, acc=51.05%]"
     ]
    }
   ],
   "execution_count": null
  },
  {
   "metadata": {
    "ExecuteTime": {
     "end_time": "2025-02-08T07:09:48.667019Z",
     "start_time": "2025-02-08T00:38:56.036493Z"
    }
   },
   "cell_type": "code",
   "source": [
    "# for bit_width in [2,3,4]:\n",
    "#     for name, submodule in model.named_modules():\n",
    "#         if hasattr(submodule, 'parametrizations'):\n",
    "#             # submodule.parametrizations is a dictionary like {\"weight\": [param_module, ...]}\n",
    "#             for param_name, param_list in submodule.parametrizations.items():\n",
    "#                 for p in param_list:\n",
    "#                     if isinstance(p, FakeQuantParametrization):\n",
    "#                         FakeQuantParametrization.quantizer.set_bit_width(bit_width)\n",
    "#     toggle_quantization(model, enabled=True)\n",
    "#     test_loss, test_acc = test(model, test_loader, criterion, device, desc=f\"Test {bit_width}\")\n",
    "# \n",
    "# FakeQuantParametrization.quantizer.set_bit_width(BIT)"
   ],
   "id": "13b90d8216803e52",
   "outputs": [],
   "execution_count": null
  }
 ],
 "metadata": {
  "kernelspec": {
   "display_name": "Python 3",
   "language": "python",
   "name": "python3"
  },
  "language_info": {
   "codemirror_mode": {
    "name": "ipython",
    "version": 2
   },
   "file_extension": ".py",
   "mimetype": "text/x-python",
   "name": "python",
   "nbconvert_exporter": "python",
   "pygments_lexer": "ipython2",
   "version": "2.7.6"
  }
 },
 "nbformat": 4,
 "nbformat_minor": 5
}
